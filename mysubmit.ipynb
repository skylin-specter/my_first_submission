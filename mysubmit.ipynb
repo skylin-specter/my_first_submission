{
 "cells": [
  {
   "cell_type": "markdown",
   "id": "4ff2883d",
   "metadata": {},
   "source": [
    "### Pythagorean theorem formula"
   ]
  },
  {
   "cell_type": "markdown",
   "id": "8ad1bfea",
   "metadata": {},
   "source": [
    "The pythagorean theorem is one of the first theorems of geometry that people learn. If a right triangle has legs of length a and b and its hypotenuse has length c then a2 + b2 = c2."
   ]
  },
  {
   "cell_type": "markdown",
   "id": "549634ef",
   "metadata": {},
   "source": [
    "List of DS Libraries: Numpy, Pandas, Matplotlib, Seaborn ..."
   ]
  },
  {
   "cell_type": "markdown",
   "id": "22afa046",
   "metadata": {},
   "source": [
    "# Data Science Tools list\n",
    "\n",
    "| Tool       | Use                 |\n",
    "|------------|-------------------- |\n",
    "| Pandas     | Data manipulation   |\n",
    "| NumPy      | Numerical computing |\n",
    "| Matplotlib | Data visualization  |\n",
    "| Scikit-learn | Machine learning  |\n"
   ]
  },
  {
   "cell_type": "markdown",
   "id": "caf4599d",
   "metadata": {},
   "source": [
    "In this section we are going to talk about Data Science ..."
   ]
  },
  {
   "cell_type": "markdown",
   "id": "b56ece7c",
   "metadata": {},
   "source": [
    "Here is a list of most popular DS tools:\n",
    "    \n",
    "    Python\n",
    "\n",
    "    R\n",
    "\n",
    "    SQL\n",
    "\n",
    "    Scala\n",
    "\n",
    "    Java\n",
    "\n",
    "    C++\n",
    "\n",
    "    Julia\n",
    "\n",
    "    JavaScript\n",
    "\n",
    "    PHP\n",
    "\n",
    "    Go\n",
    "\n",
    "    Ruby\n",
    "\n",
    "    Visual Basic"
   ]
  },
  {
   "cell_type": "markdown",
   "id": "bfce0e90",
   "metadata": {},
   "source": [
    "This are the most common libraries which are very useful:\n",
    "    \n",
    "    Pandas\n",
    "\n",
    "    Numpy\n",
    "\n",
    "    Matplotlib\n",
    "\n",
    "    Seaborn\n",
    "\n",
    "    Scikit-learn\n",
    "\n",
    "    Keras\n",
    "\n",
    "    TensorFlow\n",
    "\n",
    "    PyTorch\n",
    "\n",
    "    Apache Spark\n",
    "\n",
    "    Vegas\n",
    "\n",
    "    Big DL\n",
    "\n",
    "    Ggplot2"
   ]
  },
  {
   "cell_type": "markdown",
   "id": "2df6ba59",
   "metadata": {},
   "source": [
    "# Data Science Tools\n",
    "    \n",
    "|------------|-------------------- |\n",
    "| Jupyter Notebook\n",
    "| Anaconda\n",
    "| R"
   ]
  },
  {
   "cell_type": "markdown",
   "id": "6071207f",
   "metadata": {},
   "source": [
    "# Arithmetic Expression Examples\n",
    "\n",
    " 7 - 6 + 2 = 1 + 2 = 3 · 7 - (6 + 2) = 7-8 = -1 "
   ]
  },
  {
   "cell_type": "markdown",
   "id": "a58591bf",
   "metadata": {},
   "source": [
    "Arithmetic Expression Examples\n",
    "Here are some examples\n",
    "7 - 6 + 2 = 1 + 2 = 3 · 7 - (6 + 2) = 7-8 = -1\n"
   ]
  },
  {
   "cell_type": "markdown",
   "id": "91d9b770",
   "metadata": {},
   "source": [
    "Multiply and Adding examples:\n",
    "\n",
    "\n"
   ]
  },
  {
   "cell_type": "code",
   "execution_count": 2,
   "id": "17c6fcd1",
   "metadata": {},
   "outputs": [
    {
     "data": {
      "text/plain": [
       "9"
      ]
     },
     "execution_count": 2,
     "metadata": {},
     "output_type": "execute_result"
    }
   ],
   "source": [
    "5+4 "
   ]
  },
  {
   "cell_type": "code",
   "execution_count": 3,
   "id": "567aac73",
   "metadata": {},
   "outputs": [
    {
     "data": {
      "text/plain": [
       "20"
      ]
     },
     "execution_count": 3,
     "metadata": {},
     "output_type": "execute_result"
    }
   ],
   "source": [
    "5*4 "
   ]
  },
  {
   "cell_type": "code",
   "execution_count": 5,
   "id": "7ead6119",
   "metadata": {},
   "outputs": [],
   "source": [
    "# Convert minutes to hours\n",
    "hr = min / 60"
   ]
  },
  {
   "cell_type": "markdown",
   "id": "fc693630",
   "metadata": {},
   "source": [
    "## Objectives\n",
    "\n",
    "- Understand the problem statement\n",
    "- Explore the dataset\n",
    "- Perform data preprocessing\n",
    "- Build and evaluate the model\n",
    "- Interpret the results and draw conclusions"
   ]
  },
  {
   "cell_type": "code",
   "execution_count": null,
   "id": "43735825",
   "metadata": {},
   "outputs": [],
   "source": [
    "---\n",
    "*** Autor:*** JB\n"
   ]
  }
 ],
 "metadata": {
  "kernelspec": {
   "display_name": "Python 3 (ipykernel)",
   "language": "python",
   "name": "python3"
  },
  "language_info": {
   "codemirror_mode": {
    "name": "ipython",
    "version": 3
   },
   "file_extension": ".py",
   "mimetype": "text/x-python",
   "name": "python",
   "nbconvert_exporter": "python",
   "pygments_lexer": "ipython3",
   "version": "3.9.7"
  }
 },
 "nbformat": 4,
 "nbformat_minor": 5
}
